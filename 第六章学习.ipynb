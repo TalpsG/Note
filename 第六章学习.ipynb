{
  "metadata": {
    "kernelspec": {
      "language": "python",
      "display_name": "Python 3",
      "name": "python3"
    },
    "language_info": {
      "name": "python",
      "version": "3.10.13",
      "mimetype": "text/x-python",
      "codemirror_mode": {
        "name": "ipython",
        "version": 3
      },
      "pygments_lexer": "ipython3",
      "nbconvert_exporter": "python",
      "file_extension": ".py"
    },
    "kaggle": {
      "accelerator": "none",
      "dataSources": [],
      "dockerImageVersionId": 30664,
      "isInternetEnabled": true,
      "language": "python",
      "sourceType": "notebook",
      "isGpuEnabled": false
    },
    "colab": {
      "provenance": [],
      "include_colab_link": true
    }
  },
  "nbformat_minor": 0,
  "nbformat": 4,
  "cells": [
    {
      "cell_type": "markdown",
      "metadata": {
        "id": "view-in-github",
        "colab_type": "text"
      },
      "source": [
        "<a href=\"https://colab.research.google.com/github/TalpsG/Note/blob/master/%E7%AC%AC%E5%85%AD%E7%AB%A0%E5%AD%A6%E4%B9%A0.ipynb\" target=\"_parent\"><img src=\"https://colab.research.google.com/assets/colab-badge.svg\" alt=\"Open In Colab\"/></a>"
      ]
    },
    {
      "cell_type": "markdown",
      "source": [
        "互相关操作"
      ],
      "metadata": {
        "id": "HWizPsQSB2iu"
      }
    },
    {
      "cell_type": "code",
      "source": [
        "import torch\n",
        "from torch import nn\n",
        "def corr2d(x,k):\n",
        "    h,w = k.shape\n",
        "    y = torch.zeros(x.shape[0]-h + 1,x.shape[1]-w+1)\n",
        "    for i in range(y.shape[0]):\n",
        "        for j in range(y.shape[1]):\n",
        "            y[i,j] = (x[i:i+h,j:j+w]*k).sum()\n",
        "    return y"
      ],
      "metadata": {
        "execution": {
          "iopub.status.busy": "2024-03-13T12:25:35.274765Z",
          "iopub.execute_input": "2024-03-13T12:25:35.27524Z",
          "iopub.status.idle": "2024-03-13T12:25:35.283382Z",
          "shell.execute_reply.started": "2024-03-13T12:25:35.275207Z",
          "shell.execute_reply": "2024-03-13T12:25:35.282396Z"
        },
        "trusted": true,
        "id": "f87IJyhOB2iv"
      },
      "execution_count": null,
      "outputs": []
    },
    {
      "cell_type": "code",
      "source": [
        "x = torch.tensor([[0.0,1.0,2.0],[3.0,4.0,5.0],[6.0,7.0,8.0]])\n",
        "k = torch.tensor([[0.0,1.0],[2.0,3.0]])\n",
        "corr2d(x,k)"
      ],
      "metadata": {
        "execution": {
          "iopub.status.busy": "2024-03-13T12:25:38.683235Z",
          "iopub.execute_input": "2024-03-13T12:25:38.684414Z",
          "iopub.status.idle": "2024-03-13T12:25:38.774263Z",
          "shell.execute_reply.started": "2024-03-13T12:25:38.684359Z",
          "shell.execute_reply": "2024-03-13T12:25:38.772991Z"
        },
        "trusted": true,
        "id": "1zW8iM3fB2iw",
        "outputId": "5866806a-0545-4df9-8bea-6a43fc9d4f5d"
      },
      "execution_count": null,
      "outputs": [
        {
          "execution_count": 7,
          "output_type": "execute_result",
          "data": {
            "text/plain": "tensor([[19., 25.],\n        [37., 43.]])"
          },
          "metadata": {}
        }
      ]
    },
    {
      "cell_type": "markdown",
      "source": [
        "卷积层,就是对输入和卷积核进行运算的层。卷积层中的参数是卷积核的权重和偏移。"
      ],
      "metadata": {
        "id": "L67A_CsIB2ix"
      }
    },
    {
      "cell_type": "code",
      "source": [
        "class Conv2d(nn.Module):\n",
        "    def __init__(self,kernel_size):\n",
        "        super().__init__()\n",
        "        self.weight = nn.Parameter(torch.rand(kernel_size))\n",
        "        self.bias = nn.Parameter(torch.zeros(1))\n",
        "\n",
        "    def forward(self , x):\n",
        "        return corr2d(x,self.weight)+self.bias\n",
        "\n"
      ],
      "metadata": {
        "execution": {
          "iopub.status.busy": "2024-03-13T12:30:28.154461Z",
          "iopub.execute_input": "2024-03-13T12:30:28.155012Z",
          "iopub.status.idle": "2024-03-13T12:30:28.164072Z",
          "shell.execute_reply.started": "2024-03-13T12:30:28.15497Z",
          "shell.execute_reply": "2024-03-13T12:30:28.1626Z"
        },
        "trusted": true,
        "id": "oWL5-hQ_B2ix"
      },
      "execution_count": null,
      "outputs": []
    },
    {
      "cell_type": "markdown",
      "source": [
        "边缘检测"
      ],
      "metadata": {
        "id": "DcfBeWbvB2iy"
      }
    },
    {
      "cell_type": "code",
      "source": [
        "x = torch.ones((6,8))\n",
        "x[:,2:6] = 0\n",
        "k = torch.tensor([[1.0,-1.0]])\n"
      ],
      "metadata": {
        "execution": {
          "iopub.status.busy": "2024-03-13T12:34:31.117537Z",
          "iopub.execute_input": "2024-03-13T12:34:31.118418Z",
          "iopub.status.idle": "2024-03-13T12:34:31.12626Z",
          "shell.execute_reply.started": "2024-03-13T12:34:31.118372Z",
          "shell.execute_reply": "2024-03-13T12:34:31.124476Z"
        },
        "trusted": true,
        "id": "dYF47kb9B2iy"
      },
      "execution_count": null,
      "outputs": []
    },
    {
      "cell_type": "code",
      "source": [
        "y = corr2d(x,k)\n",
        "y"
      ],
      "metadata": {
        "execution": {
          "iopub.status.busy": "2024-03-13T12:34:41.12976Z",
          "iopub.execute_input": "2024-03-13T12:34:41.130387Z",
          "iopub.status.idle": "2024-03-13T12:34:41.142426Z",
          "shell.execute_reply.started": "2024-03-13T12:34:41.130343Z",
          "shell.execute_reply": "2024-03-13T12:34:41.140857Z"
        },
        "trusted": true,
        "id": "YO6RovO8B2iz",
        "outputId": "fe8ab163-7111-45e4-dc9a-d5c647cd6e54"
      },
      "execution_count": null,
      "outputs": [
        {
          "execution_count": 15,
          "output_type": "execute_result",
          "data": {
            "text/plain": "tensor([[ 0.,  1.,  0.,  0.,  0., -1.,  0.],\n        [ 0.,  1.,  0.,  0.,  0., -1.,  0.],\n        [ 0.,  1.,  0.,  0.,  0., -1.,  0.],\n        [ 0.,  1.,  0.,  0.,  0., -1.,  0.],\n        [ 0.,  1.,  0.,  0.,  0., -1.,  0.],\n        [ 0.,  1.,  0.,  0.,  0., -1.,  0.]])"
          },
          "metadata": {}
        }
      ]
    },
    {
      "cell_type": "markdown",
      "source": [
        "复杂数值的卷积核不可能依靠人类手动设计，需要通过学习来自动生成卷积核。"
      ],
      "metadata": {
        "id": "dItaK2UbB2iz"
      }
    },
    {
      "cell_type": "code",
      "source": [
        "# 构建一个二维卷积层\n",
        "conv2d = nn.Conv2d(1,1,kernel_size=(1,2),bias = False)\n",
        "\n",
        "x = x.reshape(1,1,6,8)\n",
        "y = y.reshape(1,1,6,7)\n",
        "\n",
        "lr = 3e-2\n",
        "\n",
        "for i in range(10):\n",
        "    y_hat = conv2d(x)\n",
        "    l = (y_hat-y)**2\n",
        "    conv2d.zero_grad()\n",
        "    l.sum().backward()\n",
        "    # l是从y_hat来的，backward的可以让模型参数计算梯度\n",
        "    conv2d.weight.data[:] -=lr*conv2d.weight.grad\n",
        "    if (i+1)%2 == 0:\n",
        "        print(f'epoch {i+1} , loss{l.sum():.3f}')\n",
        "\n",
        "conv2d.weight.data"
      ],
      "metadata": {
        "execution": {
          "iopub.status.busy": "2024-03-13T12:49:47.141339Z",
          "iopub.execute_input": "2024-03-13T12:49:47.141883Z",
          "iopub.status.idle": "2024-03-13T12:49:47.162287Z",
          "shell.execute_reply.started": "2024-03-13T12:49:47.141842Z",
          "shell.execute_reply": "2024-03-13T12:49:47.161192Z"
        },
        "trusted": true,
        "id": "Bq7UXbV4B2i0",
        "outputId": "70883304-559b-4d57-a869-44f3688b73b1"
      },
      "execution_count": null,
      "outputs": [
        {
          "name": "stdout",
          "text": "epoch 2 , loss11.640\nepoch 4 , loss2.724\nepoch 6 , loss0.773\nepoch 8 , loss0.259\nepoch 10 , loss0.096\n",
          "output_type": "stream"
        },
        {
          "execution_count": 19,
          "output_type": "execute_result",
          "data": {
            "text/plain": "tensor([[[[ 1.0158, -0.9539]]]])"
          },
          "metadata": {}
        }
      ]
    },
    {
      "cell_type": "markdown",
      "source": [
        "### 6.2.6  feature map 和receptive field\n",
        "featuremap 就是经过卷积层的输出。\n",
        "receptive field就是卷积核的过滤的区域，这个区域的信息实际上包含了不止卷积核大小的信息。\n",
        "\n"
      ],
      "metadata": {
        "id": "zHcneFm7B2i1"
      }
    },
    {
      "cell_type": "markdown",
      "source": [
        "### 作业\n",
        "1. 对角线边缘的图像\n",
        "    - 卷积核k作用于该图像的结果\n",
        "    - 转置后再卷积的结果"
      ],
      "metadata": {
        "id": "5kPfNbSDB2i1"
      }
    },
    {
      "cell_type": "code",
      "source": [
        "x = torch.ones((6,6))\n",
        "k = torch.tensor([[1.0,-1.0]])\n",
        "k = k.transpose()"
      ],
      "metadata": {
        "execution": {
          "iopub.status.busy": "2024-03-13T12:58:04.384993Z",
          "iopub.execute_input": "2024-03-13T12:58:04.38551Z",
          "iopub.status.idle": "2024-03-13T12:58:04.393189Z",
          "shell.execute_reply.started": "2024-03-13T12:58:04.385476Z",
          "shell.execute_reply": "2024-03-13T12:58:04.391608Z"
        },
        "trusted": true,
        "id": "9zCqwpS9B2i1",
        "colab": {
          "base_uri": "https://localhost:8080/",
          "height": 211
        },
        "outputId": "fd375f2f-9a9b-4ba6-9d18-363c849ce80d"
      },
      "execution_count": 32,
      "outputs": [
        {
          "output_type": "error",
          "ename": "TypeError",
          "evalue": "transpose() received an invalid combination of arguments - got (), but expected one of:\n * (int dim0, int dim1)\n * (name dim0, name dim1)\n",
          "traceback": [
            "\u001b[0;31m---------------------------------------------------------------------------\u001b[0m",
            "\u001b[0;31mTypeError\u001b[0m                                 Traceback (most recent call last)",
            "\u001b[0;32m<ipython-input-32-e59e805bc9e5>\u001b[0m in \u001b[0;36m<cell line: 3>\u001b[0;34m()\u001b[0m\n\u001b[1;32m      1\u001b[0m \u001b[0mx\u001b[0m \u001b[0;34m=\u001b[0m \u001b[0mtorch\u001b[0m\u001b[0;34m.\u001b[0m\u001b[0mones\u001b[0m\u001b[0;34m(\u001b[0m\u001b[0;34m(\u001b[0m\u001b[0;36m6\u001b[0m\u001b[0;34m,\u001b[0m\u001b[0;36m6\u001b[0m\u001b[0;34m)\u001b[0m\u001b[0;34m)\u001b[0m\u001b[0;34m\u001b[0m\u001b[0;34m\u001b[0m\u001b[0m\n\u001b[1;32m      2\u001b[0m \u001b[0mk\u001b[0m \u001b[0;34m=\u001b[0m \u001b[0mtorch\u001b[0m\u001b[0;34m.\u001b[0m\u001b[0mtensor\u001b[0m\u001b[0;34m(\u001b[0m\u001b[0;34m[\u001b[0m\u001b[0;34m[\u001b[0m\u001b[0;36m1.0\u001b[0m\u001b[0;34m,\u001b[0m\u001b[0;34m-\u001b[0m\u001b[0;36m1.0\u001b[0m\u001b[0;34m]\u001b[0m\u001b[0;34m]\u001b[0m\u001b[0;34m)\u001b[0m\u001b[0;34m\u001b[0m\u001b[0;34m\u001b[0m\u001b[0m\n\u001b[0;32m----> 3\u001b[0;31m \u001b[0mk\u001b[0m \u001b[0;34m=\u001b[0m \u001b[0mk\u001b[0m\u001b[0;34m.\u001b[0m\u001b[0mtranspose\u001b[0m\u001b[0;34m(\u001b[0m\u001b[0;34m)\u001b[0m\u001b[0;34m\u001b[0m\u001b[0;34m\u001b[0m\u001b[0m\n\u001b[0m",
            "\u001b[0;31mTypeError\u001b[0m: transpose() received an invalid combination of arguments - got (), but expected one of:\n * (int dim0, int dim1)\n * (name dim0, name dim1)\n"
          ]
        }
      ]
    },
    {
      "cell_type": "code",
      "source": [
        "y = corr2d(x,k)\n",
        "y"
      ],
      "metadata": {
        "execution": {
          "iopub.status.busy": "2024-03-13T12:58:27.476758Z",
          "iopub.execute_input": "2024-03-13T12:58:27.477246Z",
          "iopub.status.idle": "2024-03-13T12:58:27.488906Z",
          "shell.execute_reply.started": "2024-03-13T12:58:27.477214Z",
          "shell.execute_reply": "2024-03-13T12:58:27.487012Z"
        },
        "trusted": true,
        "id": "d8PeQ-TMB2i2",
        "outputId": "930d26e7-550d-4870-f451-455886cb2591"
      },
      "execution_count": null,
      "outputs": [
        {
          "execution_count": 28,
          "output_type": "execute_result",
          "data": {
            "text/plain": "tensor([[0., 0., 0., 0., 0.],\n        [0., 0., 0., 0., 0.],\n        [0., 0., 0., 0., 0.],\n        [0., 0., 0., 0., 0.],\n        [0., 0., 0., 0., 0.],\n        [0., 0., 0., 0., 0.]])"
          },
          "metadata": {}
        }
      ]
    },
    {
      "cell_type": "markdown",
      "source": [
        "## 6.3 padding and stride\n",
        "多层卷积时常常会丢失边缘像素(个人理解是经过卷积后边缘的像素和其他像素混合了，故而丢失了).\n",
        "我们可以使用padding,对边缘来填充像素，来使得卷积后边缘的像素仍然可以被保留下来。\n",
        "由于一般卷积后输出会比原图小，因此我们可以在图像外部填充几圈，使得输入和输出的大小一致。"
      ],
      "metadata": {
        "id": "FcWLm3J7B2i2"
      }
    },
    {
      "cell_type": "code",
      "source": [
        "import torch\n",
        "from torch import nn\n",
        "\n",
        "def comp_conv2d(conv2d,x):\n",
        "    x = x.reshape((1,1)+x.shape)\n",
        "    y = conv2d(x)\n",
        "    return y.reshape(y.shape[2:])\n",
        "\n",
        "conv2d = nn.Conv2d(1,1,kernel_size=3,padding=1)\n",
        "conv2d.weight.data = conv2d.weight.data - conv2d.weight.data\n",
        "\n",
        "x = torch.rand(size=(8,8))\n",
        "y = comp_conv2d(conv2d,x)\n",
        "conv2d.bias.data"
      ],
      "metadata": {
        "execution": {
          "iopub.status.busy": "2024-03-13T13:15:49.220246Z",
          "iopub.execute_input": "2024-03-13T13:15:49.220708Z",
          "iopub.status.idle": "2024-03-13T13:15:49.234791Z",
          "shell.execute_reply.started": "2024-03-13T13:15:49.220655Z",
          "shell.execute_reply": "2024-03-13T13:15:49.233528Z"
        },
        "trusted": true,
        "id": "wLH-mCXNB2i2",
        "outputId": "277eae65-d645-42f6-92ca-055e20cb1acc",
        "colab": {
          "base_uri": "https://localhost:8080/"
        }
      },
      "execution_count": 18,
      "outputs": [
        {
          "output_type": "execute_result",
          "data": {
            "text/plain": [
              "tensor([-0.1498])"
            ]
          },
          "metadata": {},
          "execution_count": 18
        }
      ]
    },
    {
      "cell_type": "markdown",
      "source": [
        "### 6.3.2 stride\n",
        "stride其实就是卷积核平移的像素数，平移的远会导致输出结果变得更小，当然运算量也会更小。\n"
      ],
      "metadata": {
        "id": "ue_LN_TZB2i2"
      }
    },
    {
      "cell_type": "code",
      "source": [
        "conv2d= nn.Conv2d(1,1,kernel_size=3,padding=1,stride=2)\n",
        "comp_conv2d(conv2d,x).shape"
      ],
      "metadata": {
        "execution": {
          "iopub.status.busy": "2024-03-13T13:33:02.353434Z",
          "iopub.execute_input": "2024-03-13T13:33:02.353989Z",
          "iopub.status.idle": "2024-03-13T13:33:02.364996Z",
          "shell.execute_reply.started": "2024-03-13T13:33:02.353947Z",
          "shell.execute_reply": "2024-03-13T13:33:02.363417Z"
        },
        "trusted": true,
        "id": "jDscu7qhB2i3",
        "outputId": "9031dfaf-48c7-4fa4-92e0-e9395f78154f"
      },
      "execution_count": null,
      "outputs": [
        {
          "execution_count": 37,
          "output_type": "execute_result",
          "data": {
            "text/plain": "torch.Size([4, 4])"
          },
          "metadata": {}
        }
      ]
    },
    {
      "cell_type": "code",
      "source": [
        "conv2d = nn.Conv2d(1,1,kernel_size=(3,5),padding=(0,1),stride=(3,4))\n",
        "comp_conv2d(conv2d,x).shape"
      ],
      "metadata": {
        "execution": {
          "iopub.status.busy": "2024-03-13T13:34:00.944511Z",
          "iopub.execute_input": "2024-03-13T13:34:00.945418Z",
          "iopub.status.idle": "2024-03-13T13:34:00.955309Z",
          "shell.execute_reply.started": "2024-03-13T13:34:00.945364Z",
          "shell.execute_reply": "2024-03-13T13:34:00.953799Z"
        },
        "trusted": true,
        "id": "94tTCv2DB2i3",
        "outputId": "44341b34-c794-45e2-8338-7203936c03f4"
      },
      "execution_count": null,
      "outputs": [
        {
          "execution_count": 38,
          "output_type": "execute_result",
          "data": {
            "text/plain": "torch.Size([2, 2])"
          },
          "metadata": {}
        }
      ]
    },
    {
      "cell_type": "markdown",
      "source": [
        "## 多输入多输出\n",
        "### 多输入通道\n",
        "当输入有多个通道时，我们的卷积核也要有多个通道。\n",
        "卷积核对每个通道做互相关运算后，得到的结果可以求和得到二维张量。\n"
      ],
      "metadata": {
        "id": "RDqQ-cCIB2i3"
      }
    },
    {
      "cell_type": "code",
      "source": [
        "import torch\n",
        "from torch import nn\n",
        "def corr2d(x,k):\n",
        "  h,w = k.shape\n",
        "  y = torch.zeros((x.shape[0]-h+1,x.shape[1]-w+1))\n",
        "  for i in range(y.shape[0]):\n",
        "    for j in range(y.shape[1]):\n",
        "      y[i,j]= (x[i:i+h,j:j+w]*k).sum()\n",
        "\n",
        "  return y\n",
        "def corr2d_multi_in(x,k):\n",
        "  return sum(corr2d(x1,k1) for x1,k1 in zip(x,k))"
      ],
      "metadata": {
        "id": "Kcpg6pfCCbEh"
      },
      "execution_count": 4,
      "outputs": []
    },
    {
      "cell_type": "code",
      "source": [
        "X = torch.tensor([[[0.0, 1.0, 2.0], [3.0, 4.0, 5.0], [6.0, 7.0, 8.0]],\n",
        "               [[1.0, 2.0, 3.0], [4.0, 5.0, 6.0], [7.0, 8.0, 9.0]]])\n",
        "K = torch.tensor([[[0.0, 1.0], [2.0, 3.0]], [[1.0, 2.0], [3.0, 4.0]]])\n",
        "\n",
        "corr2d_multi_in(X, K)"
      ],
      "metadata": {
        "colab": {
          "base_uri": "https://localhost:8080/"
        },
        "id": "iKrqdw7HEJkC",
        "outputId": "f3603908-02d9-4fbb-8a76-164b21c0c3fe"
      },
      "execution_count": 30,
      "outputs": [
        {
          "output_type": "execute_result",
          "data": {
            "text/plain": [
              "tensor([[ 56.,  72.],\n",
              "        [104., 120.]])"
            ]
          },
          "metadata": {},
          "execution_count": 30
        }
      ]
    },
    {
      "cell_type": "markdown",
      "source": [
        "### 多输出通道\n",
        "在神经网络架构中，随着神经网络层数的加深，常常会增加输出通道，因为输出通道数增多可以帮助网络捕获更多复杂和抽象的特征。随着通道数增多，为了维持运算效率，常常会降低各个通道的分辨率。"
      ],
      "metadata": {
        "id": "F-mniNTHExPn"
      }
    },
    {
      "cell_type": "code",
      "source": [
        "def corr2d_multi_in_out(x,k):\n",
        "  return torch.stack([corr2d_multi_in(x,k1) for k1 in k ],0)"
      ],
      "metadata": {
        "id": "ZQNuMiC9GrR6"
      },
      "execution_count": 27,
      "outputs": []
    },
    {
      "cell_type": "code",
      "source": [
        "K = torch.stack((K,K+1,K+2),0)\n",
        "corr2d_multi_in_out(X,K)"
      ],
      "metadata": {
        "colab": {
          "base_uri": "https://localhost:8080/"
        },
        "id": "pHsXoQA1HGZT",
        "outputId": "961c86dc-efc9-4657-921e-a7bafbf6ca00"
      },
      "execution_count": 31,
      "outputs": [
        {
          "output_type": "execute_result",
          "data": {
            "text/plain": [
              "tensor([[[ 56.,  72.],\n",
              "         [104., 120.]],\n",
              "\n",
              "        [[ 76., 100.],\n",
              "         [148., 172.]],\n",
              "\n",
              "        [[ 96., 128.],\n",
              "         [192., 224.]]])"
            ]
          },
          "metadata": {},
          "execution_count": 31
        }
      ]
    },
    {
      "cell_type": "markdown",
      "source": [
        "多输出通道的卷积层实际上就是将对每一个通道的卷积结果`stack`到了一起。"
      ],
      "metadata": {
        "id": "j78eck8cJPGz"
      }
    },
    {
      "cell_type": "markdown",
      "source": [
        "### 1x1卷积核\n",
        "1x1卷积核虽然不能改变形状，但是我们可以改变输出的通道数。"
      ],
      "metadata": {
        "id": "vJWGLEW1Jish"
      }
    },
    {
      "cell_type": "code",
      "source": [
        "def corr2d_multi_in_out_1x1(X,K):\n",
        "  c_i,h,w = X.shape\n",
        "  c_o = K.shape[0]\n",
        "  X = X.reshape((c_i,h*w))\n",
        "  K = K.reshape(c_o,c_i)\n",
        "  y = torch.matmul(K,X)\n",
        "  return y.reshape(c_o,h,w)\n"
      ],
      "metadata": {
        "id": "U2Swph6qKHnB"
      },
      "execution_count": 33,
      "outputs": []
    },
    {
      "cell_type": "code",
      "source": [
        "X = torch.normal(0, 1, (3, 3, 3))\n",
        "K = torch.normal(0, 1, (2, 3, 1, 1))\n",
        "\n",
        "Y1 = corr2d_multi_in_out_1x1(X, K)\n",
        "Y2 = corr2d_multi_in_out(X, K)\n",
        "assert float(torch.abs(Y1 - Y2).sum()) < 1e-6\n"
      ],
      "metadata": {
        "id": "mxAloZ5uMKdT"
      },
      "execution_count": 35,
      "outputs": []
    },
    {
      "cell_type": "markdown",
      "source": [
        "### 小结\n",
        "多输入多输出通道可以扩展卷积层模型。\n",
        "\n",
        "1x1的卷积层相当于全连接层。"
      ],
      "metadata": {
        "id": "Q7O2xZbtMUM2"
      }
    },
    {
      "cell_type": "markdown",
      "source": [
        "## 池化层\n",
        "目的是为了降低卷积层对位置的敏感性"
      ],
      "metadata": {
        "id": "Ot--Z-NSNNIv"
      }
    },
    {
      "cell_type": "code",
      "source": [
        "import torch\n",
        "from torch import nn\n",
        "def pool2d(X,pool_size,mode='max'):\n",
        "  h,w = pool_size\n",
        "  y = torch.zeros((x.shape[0]-h+1,x.shape[1]-w+1))\n",
        "  for i in range(y.shape[0]):\n",
        "    for j in range(y.shape[1]):\n",
        "      if mode == 'max':\n",
        "        Y[i,j] = X[i:i+h,j:j+w].max()\n",
        "      else:\n",
        "        Y[i,j] = X[i:i+h,j:j+w].mean()\n",
        "  return y"
      ],
      "metadata": {
        "id": "pdSCabKwOhNT"
      },
      "execution_count": 37,
      "outputs": []
    }
  ]
}